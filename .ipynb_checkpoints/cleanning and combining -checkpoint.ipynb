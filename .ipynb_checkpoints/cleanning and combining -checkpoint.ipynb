{
 "cells": [
  {
   "cell_type": "markdown",
   "id": "ee133d63",
   "metadata": {},
   "source": [
    "## Cleanning two different datasets and combining them "
   ]
  },
  {
   "cell_type": "code",
   "execution_count": 1,
   "id": "bce1a74a",
   "metadata": {},
   "outputs": [],
   "source": [
    "import pandas as pd\n",
    "import matplotlib.pyplot as plt\n",
    "import plotly.express as px"
   ]
  },
  {
   "cell_type": "markdown",
   "id": "9243e20c",
   "metadata": {},
   "source": [
    "### Cleanning first dataset"
   ]
  },
  {
   "cell_type": "code",
   "execution_count": 30,
   "id": "2808b8b2",
   "metadata": {},
   "outputs": [],
   "source": [
    "df1=pd.read_csv(\"brasil-real-estate-1.csv\",encoding=\"ISO-8859-1\")"
   ]
  },
  {
   "cell_type": "code",
   "execution_count": 31,
   "id": "8f12b11e",
   "metadata": {},
   "outputs": [
    {
     "name": "stdout",
     "output_type": "stream",
     "text": [
      "<class 'pandas.core.frame.DataFrame'>\n",
      "RangeIndex: 12834 entries, 0 to 12833\n",
      "Data columns (total 7 columns):\n",
      " #   Column                   Non-Null Count  Dtype \n",
      "---  ------                   --------------  ----- \n",
      " 0   Unnamed: 0               12834 non-null  int64 \n",
      " 1   property_type            12834 non-null  object\n",
      " 2   place_with_parent_names  12834 non-null  object\n",
      " 3   region                   12834 non-null  object\n",
      " 4   lat-lon                  11551 non-null  object\n",
      " 5   area_m2                  12834 non-null  int64 \n",
      " 6   price_usd                12834 non-null  object\n",
      "dtypes: int64(2), object(5)\n",
      "memory usage: 702.0+ KB\n"
     ]
    }
   ],
   "source": [
    "df1.info()"
   ]
  },
  {
   "cell_type": "code",
   "execution_count": 32,
   "id": "06e583e1",
   "metadata": {},
   "outputs": [
    {
     "data": {
      "text/html": [
       "<div>\n",
       "<style scoped>\n",
       "    .dataframe tbody tr th:only-of-type {\n",
       "        vertical-align: middle;\n",
       "    }\n",
       "\n",
       "    .dataframe tbody tr th {\n",
       "        vertical-align: top;\n",
       "    }\n",
       "\n",
       "    .dataframe thead th {\n",
       "        text-align: right;\n",
       "    }\n",
       "</style>\n",
       "<table border=\"1\" class=\"dataframe\">\n",
       "  <thead>\n",
       "    <tr style=\"text-align: right;\">\n",
       "      <th></th>\n",
       "      <th>Unnamed: 0</th>\n",
       "      <th>property_type</th>\n",
       "      <th>place_with_parent_names</th>\n",
       "      <th>region</th>\n",
       "      <th>lat-lon</th>\n",
       "      <th>area_m2</th>\n",
       "      <th>price_usd</th>\n",
       "    </tr>\n",
       "  </thead>\n",
       "  <tbody>\n",
       "    <tr>\n",
       "      <th>0</th>\n",
       "      <td>1</td>\n",
       "      <td>apartment</td>\n",
       "      <td>|Brasil|Alagoas|Maceió|</td>\n",
       "      <td>Northeast</td>\n",
       "      <td>-9.6443051,-35.7088142</td>\n",
       "      <td>110</td>\n",
       "      <td>$187,230.85</td>\n",
       "    </tr>\n",
       "    <tr>\n",
       "      <th>1</th>\n",
       "      <td>2</td>\n",
       "      <td>apartment</td>\n",
       "      <td>|Brasil|Alagoas|Maceió|</td>\n",
       "      <td>Northeast</td>\n",
       "      <td>-9.6430934,-35.70484</td>\n",
       "      <td>65</td>\n",
       "      <td>$81,133.37</td>\n",
       "    </tr>\n",
       "    <tr>\n",
       "      <th>2</th>\n",
       "      <td>3</td>\n",
       "      <td>house</td>\n",
       "      <td>|Brasil|Alagoas|Maceió|</td>\n",
       "      <td>Northeast</td>\n",
       "      <td>-9.6227033,-35.7297953</td>\n",
       "      <td>211</td>\n",
       "      <td>$154,465.45</td>\n",
       "    </tr>\n",
       "    <tr>\n",
       "      <th>3</th>\n",
       "      <td>4</td>\n",
       "      <td>apartment</td>\n",
       "      <td>|Brasil|Alagoas|Maceió|</td>\n",
       "      <td>Northeast</td>\n",
       "      <td>-9.622837,-35.719556</td>\n",
       "      <td>99</td>\n",
       "      <td>$146,013.20</td>\n",
       "    </tr>\n",
       "    <tr>\n",
       "      <th>4</th>\n",
       "      <td>5</td>\n",
       "      <td>apartment</td>\n",
       "      <td>|Brasil|Alagoas|Maceió|</td>\n",
       "      <td>Northeast</td>\n",
       "      <td>-9.654955,-35.700227</td>\n",
       "      <td>55</td>\n",
       "      <td>$101,416.71</td>\n",
       "    </tr>\n",
       "  </tbody>\n",
       "</table>\n",
       "</div>"
      ],
      "text/plain": [
       "   Unnamed: 0 property_type  place_with_parent_names     region  \\\n",
       "0           1     apartment  |Brasil|Alagoas|Maceió|  Northeast   \n",
       "1           2     apartment  |Brasil|Alagoas|Maceió|  Northeast   \n",
       "2           3         house  |Brasil|Alagoas|Maceió|  Northeast   \n",
       "3           4     apartment  |Brasil|Alagoas|Maceió|  Northeast   \n",
       "4           5     apartment  |Brasil|Alagoas|Maceió|  Northeast   \n",
       "\n",
       "                  lat-lon  area_m2    price_usd  \n",
       "0  -9.6443051,-35.7088142      110  $187,230.85  \n",
       "1    -9.6430934,-35.70484       65   $81,133.37  \n",
       "2  -9.6227033,-35.7297953      211  $154,465.45  \n",
       "3    -9.622837,-35.719556       99  $146,013.20  \n",
       "4    -9.654955,-35.700227       55  $101,416.71  "
      ]
     },
     "execution_count": 32,
     "metadata": {},
     "output_type": "execute_result"
    }
   ],
   "source": [
    "df1.head(5)"
   ]
  },
  {
   "cell_type": "code",
   "execution_count": 40,
   "id": "3eb6c904",
   "metadata": {},
   "outputs": [],
   "source": [
    "df1=df1.dropna()"
   ]
  },
  {
   "cell_type": "code",
   "execution_count": 34,
   "id": "039da886",
   "metadata": {},
   "outputs": [],
   "source": [
    "df1[[\"lat\",\"lon\"]]=df1[\"lat-lon\"].str.split(\",\",expand=True).astype(float)"
   ]
  },
  {
   "cell_type": "code",
   "execution_count": 35,
   "id": "932cde59",
   "metadata": {},
   "outputs": [],
   "source": [
    "df1[\"state\"]=df1[\"place_with_parent_names\"].str.split(\"|\",expand=True)[2]"
   ]
  },
  {
   "cell_type": "code",
   "execution_count": 36,
   "id": "7e34240e",
   "metadata": {},
   "outputs": [],
   "source": [
    "df1[\"price_usd\"]=df1[\"price_usd\"].str.replace(\"$\",\"\",regex=\n",
    "   False).str.replace(\",\",\"\",regex=False).astype(float)"
   ]
  },
  {
   "cell_type": "code",
   "execution_count": 39,
   "id": "4496f8ac",
   "metadata": {},
   "outputs": [],
   "source": [
    "df1=df1.drop([\"lat-lon\",\"place_with_parent_names\"],axis=1)"
   ]
  },
  {
   "cell_type": "markdown",
   "id": "e59be1e6",
   "metadata": {},
   "source": [
    "### cleanning second dataset "
   ]
  },
  {
   "cell_type": "code",
   "execution_count": 41,
   "id": "4f1d7cd3",
   "metadata": {},
   "outputs": [],
   "source": [
    "df2 =pd.read_csv(\"brasil-real-estate-2.csv\",encoding=\"ISO-8859-1\")"
   ]
  },
  {
   "cell_type": "code",
   "execution_count": 42,
   "id": "d4f33e0e",
   "metadata": {},
   "outputs": [
    {
     "name": "stdout",
     "output_type": "stream",
     "text": [
      "<class 'pandas.core.frame.DataFrame'>\n",
      "RangeIndex: 12833 entries, 0 to 12832\n",
      "Data columns (total 8 columns):\n",
      " #   Column         Non-Null Count  Dtype  \n",
      "---  ------         --------------  -----  \n",
      " 0   Unnamed: 0     12833 non-null  int64  \n",
      " 1   property_type  12833 non-null  object \n",
      " 2   state          12833 non-null  object \n",
      " 3   region         12833 non-null  object \n",
      " 4   lat            12833 non-null  float64\n",
      " 5   lon            12833 non-null  float64\n",
      " 6   area_m2        11293 non-null  float64\n",
      " 7   price_brl      12833 non-null  float64\n",
      "dtypes: float64(4), int64(1), object(3)\n",
      "memory usage: 802.2+ KB\n"
     ]
    }
   ],
   "source": [
    "df2.info()"
   ]
  },
  {
   "cell_type": "code",
   "execution_count": 43,
   "id": "fd9bbee0",
   "metadata": {},
   "outputs": [],
   "source": [
    "df2[\"price_usd\"]=df2[\"price_brl\"]/3.19"
   ]
  },
  {
   "cell_type": "code",
   "execution_count": 45,
   "id": "ba2ccabf",
   "metadata": {},
   "outputs": [],
   "source": [
    "df2=df2.drop([\"price_brl\"],axis=1)"
   ]
  },
  {
   "cell_type": "code",
   "execution_count": 46,
   "id": "e06d28ac",
   "metadata": {},
   "outputs": [],
   "source": [
    "df2=df2.dropna()"
   ]
  },
  {
   "cell_type": "code",
   "execution_count": 51,
   "id": "3a574d43",
   "metadata": {},
   "outputs": [
    {
     "data": {
      "text/plain": [
       "True"
      ]
     },
     "execution_count": 51,
     "metadata": {},
     "output_type": "execute_result"
    }
   ],
   "source": [
    "set(df1.columns)==set(df2.columns)"
   ]
  },
  {
   "cell_type": "code",
   "execution_count": 52,
   "id": "23a1fbcb",
   "metadata": {},
   "outputs": [],
   "source": [
    "df = pd.concat([df1,df2])"
   ]
  },
  {
   "cell_type": "markdown",
   "id": "57ab5649",
   "metadata": {},
   "source": [
    "#### cobining two clean datasets"
   ]
  },
  {
   "cell_type": "code",
   "execution_count": 54,
   "id": "7fe48f12",
   "metadata": {},
   "outputs": [],
   "source": [
    "df.to_csv(\"brazil_real_estate_clean.csv\",index=False)"
   ]
  }
 ],
 "metadata": {
  "kernelspec": {
   "display_name": "Python 3 (ipykernel)",
   "language": "python",
   "name": "python3"
  },
  "language_info": {
   "codemirror_mode": {
    "name": "ipython",
    "version": 3
   },
   "file_extension": ".py",
   "mimetype": "text/x-python",
   "name": "python",
   "nbconvert_exporter": "python",
   "pygments_lexer": "ipython3",
   "version": "3.9.7"
  }
 },
 "nbformat": 4,
 "nbformat_minor": 5
}
